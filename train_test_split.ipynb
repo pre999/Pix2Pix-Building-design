{
 "cells": [
  {
   "cell_type": "code",
   "execution_count": 4,
   "id": "49529e76-e79d-4fd1-ab55-ff4b93846882",
   "metadata": {},
   "outputs": [],
   "source": [
    "import os\n",
    "import shutil\n",
    "import random"
   ]
  },
  {
   "cell_type": "code",
   "execution_count": 6,
   "id": "db92d636-f823-4f71-ad27-acd12692464d",
   "metadata": {},
   "outputs": [],
   "source": [
    "source_dir = \".//preprocessed_dataset//\"\n",
    "folders = [\".//dataset//train//\", \".//dataset//test//\"]"
   ]
  },
  {
   "cell_type": "code",
   "execution_count": 9,
   "id": "9c13c387-86b0-4b13-972a-5accab3320f7",
   "metadata": {},
   "outputs": [],
   "source": [
    "for folder in folders:\n",
    "    if not os.path.exists(folder):\n",
    "        os.makedirs(folder)"
   ]
  },
  {
   "cell_type": "code",
   "execution_count": 11,
   "id": "f1ff124d-05ef-4b2d-aaf4-726d0e742c2e",
   "metadata": {},
   "outputs": [],
   "source": [
    "images = [img for img in os.listdir(source_dir)]"
   ]
  },
  {
   "cell_type": "code",
   "execution_count": 13,
   "id": "023ca75a-e5db-4e43-9805-4bb4e0735cb1",
   "metadata": {},
   "outputs": [
    {
     "data": {
      "text/plain": [
       "606"
      ]
     },
     "execution_count": 13,
     "metadata": {},
     "output_type": "execute_result"
    }
   ],
   "source": [
    "len(images)"
   ]
  },
  {
   "cell_type": "code",
   "execution_count": 16,
   "id": "1c62c472-f02f-4b93-b89f-2ddff4643194",
   "metadata": {},
   "outputs": [],
   "source": [
    "random.seed(0)"
   ]
  },
  {
   "cell_type": "code",
   "execution_count": 17,
   "id": "42f6ed48-80bc-4de1-bdc8-263d7bf328b8",
   "metadata": {},
   "outputs": [],
   "source": [
    "random.shuffle(images)\n",
    "train_size = int(len(images) * 0.8)\n",
    "test_size = len(images) - train_size"
   ]
  },
  {
   "cell_type": "code",
   "execution_count": 19,
   "id": "d87f3f21-c296-40ce-9161-f8877869d2c3",
   "metadata": {},
   "outputs": [],
   "source": [
    "for j, file in enumerate(images):\n",
    "    if j < train_size:\n",
    "        destination_folder = folders[0]\n",
    "    else:\n",
    "        destination_folder = folders[1]\n",
    "    #if not os.path.exists(destination_folder):\n",
    "    #    os.makedirs(destination_folder)\n",
    "    shutil.copy(os.path.join(source_dir, file), os.path.join(destination_folder, file))"
   ]
  }
 ],
 "metadata": {
  "kernelspec": {
   "display_name": "Python 3",
   "language": "python",
   "name": "python3"
  },
  "language_info": {
   "codemirror_mode": {
    "name": "ipython",
    "version": 3
   },
   "file_extension": ".py",
   "mimetype": "text/x-python",
   "name": "python",
   "nbconvert_exporter": "python",
   "pygments_lexer": "ipython3",
   "version": "3.6.13"
  }
 },
 "nbformat": 4,
 "nbformat_minor": 5
}
